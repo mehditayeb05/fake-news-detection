{
 "cells": [
  {
   "cell_type": "code",
   "execution_count": 1,
   "id": "de312c08",
   "metadata": {},
   "outputs": [
    {
     "name": "stdout",
     "output_type": "stream",
     "text": [
      " * Serving Flask app '__main__'\n",
      " * Debug mode: on\n"
     ]
    },
    {
     "name": "stderr",
     "output_type": "stream",
     "text": [
      "WARNING: This is a development server. Do not use it in a production deployment. Use a production WSGI server instead.\n",
      " * Running on http://localhost:5000\n",
      "Press CTRL+C to quit\n",
      "127.0.0.1 - - [18/Mar/2024 02:11:52] \"OPTIONS /predict HTTP/1.1\" 200 -\n",
      "127.0.0.1 - - [18/Mar/2024 02:11:52] \"POST /predict HTTP/1.1\" 200 -\n"
     ]
    }
   ],
   "source": [
    "from flask import Flask, request, jsonify\n",
    "from flask_cors import CORS\n",
    "import joblib\n",
    "import signal\n",
    "import sys\n",
    "import re\n",
    "from nltk.corpus import stopwords\n",
    "from nltk.stem.porter import PorterStemmer\n",
    "port_stem = PorterStemmer()\n",
    "def stemming(content):\n",
    "    stemmed_content = re.sub(\"[^a-zA-Z]\",\" \",content)\n",
    "    stemmed_content = stemmed_content.lower()\n",
    "    stemmed_content = stemmed_content.split()\n",
    "    stemmed_content = [port_stem.stem(word) for word in stemmed_content if not word in stopwords.words(\"English\")]\n",
    "    stemmed_content = \" \".join(stemmed_content)\n",
    "    return stemmed_content\n",
    "app = Flask(__name__)\n",
    "CORS(app, resources={r\"/*\": {\"origins\": \"*\"}}) \n",
    "model = joblib.load('trained_model.pkl')\n",
    "vectorizer = joblib.load('vectorizer.pkl')\n",
    "@app.route('/predict', methods=['POST'])\n",
    "def predict():\n",
    "    try:  \n",
    "        data = request.get_json()\n",
    "        news = data['author']+\" \"+data[\"news\"]\n",
    "        news =stemming(news)\n",
    "        news = vectorizer.transform([news])\n",
    "        prediction = model.predict(news)\n",
    "        return jsonify({'prediction': int(prediction[0])})\n",
    "    except Exception as e:\n",
    "        return jsonify({'error': e})\n",
    "signal.signal(signal.SIGINT, signal.SIG_DFL)\n",
    "if __name__ == '__main__':\n",
    "    app.run(host='localhost', port=5000, debug=True, use_reloader=False)\n"
   ]
  }
 ],
 "metadata": {
  "kernelspec": {
   "display_name": "Python 3 (ipykernel)",
   "language": "python",
   "name": "python3"
  },
  "language_info": {
   "codemirror_mode": {
    "name": "ipython",
    "version": 3
   },
   "file_extension": ".py",
   "mimetype": "text/x-python",
   "name": "python",
   "nbconvert_exporter": "python",
   "pygments_lexer": "ipython3",
   "version": "3.11.5"
  }
 },
 "nbformat": 4,
 "nbformat_minor": 5
}
